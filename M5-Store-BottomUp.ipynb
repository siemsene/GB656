{
 "cells": [
  {
   "cell_type": "code",
   "execution_count": 5,
   "id": "c11ea405",
   "metadata": {},
   "outputs": [],
   "source": [
    "\n",
    "import pandas as pd\n",
    "import numpy as np\n",
    "from statsforecast import StatsForecast\n",
    "from statsforecast.models import AutoETS\n",
    "from tqdm import tqdm\n"
   ]
  },
  {
   "cell_type": "code",
   "execution_count": null,
   "id": "9e6de2ef",
   "metadata": {},
   "outputs": [],
   "source": [
    "\n",
    "def mase(y, y_pred, y_train, seasonality=1):\n",
    "    \"\"\"\n",
    "    Calculate Mean Absolute Scaled Error (MASE)\n",
    "    y: Actual values\n",
    "    y_pred: Predicted values\n",
    "    y_train: Training data for scaling factor\n",
    "    seasonality: Seasonal period for naive forecasting\n",
    "    \"\"\"\n",
    "    mae = np.mean(np.abs(y - y_pred))\n",
    "    naive_forecast_errors = np.abs(y_train[seasonality:] - y_train[:-seasonality])\n",
    "    scaling_factor = np.mean(naive_forecast_errors)\n",
    "    return mae / scaling_factor\n"
   ]
  },
  {
   "cell_type": "code",
   "execution_count": 6,
   "id": "1793a4ed",
   "metadata": {},
   "outputs": [],
   "source": [
    "\n",
    "def bottom_up_forecasting(data, m, h, seasonality):\n",
    "    \"\"\"\n",
    "    Perform bottom-up forecasting at the store level by summing up department-level forecasts.\n",
    "\n",
    "    data: Input dataset with store-department level time series.\n",
    "    m: Number of data points from the end of the dataset for cross-validation.\n",
    "    h: Number of steps ahead for forecasting.\n",
    "    seasonality: Seasonal period for naive forecasting.\n",
    "    \"\"\"\n",
    "    store_ids = data['store_id'].unique()\n",
    "    results = []\n",
    "\n",
    "    for store_id in tqdm(store_ids, desc=\"Processing all stores\"):\n",
    "        # Subset data for the current store\n",
    "        store_data = data[data['store_id'] == store_id]\n",
    "        department_ids = store_data['store_dept_id'].unique()\n",
    "\n",
    "        # Initialize forecasts for aggregation\n",
    "        autoets_forecasts = []\n",
    "        naive_forecasts = []\n",
    "\n",
    "        for dept_id in department_ids:\n",
    "            # Subset data for the current department\n",
    "            dept_data = store_data[store_data['store_dept_id'] == dept_id]\n",
    "            dept_data = dept_data.rename(columns={'d': 'ds', 'revenue': 'y'})\n",
    "\n",
    "            # Leave-one-out cross-validation\n",
    "            model = AutoETS(model=[\"Z\", \"Z\", \"Z\"], alias=\"AutoETS\", damped=True, season_length=seasonality)\n",
    "            errors_autoets = []\n",
    "            errors_naive = []\n",
    "\n",
    "            for i in range(len(dept_data) - m, len(dept_data) - h + 1):\n",
    "                train_subset = dept_data.iloc[:i]\n",
    "                test_subset = dept_data.iloc[i:i + h]\n",
    "\n",
    "                # AutoETS forecast\n",
    "                autoets_model = model.fit(train_subset['y'].values)\n",
    "                y_hat_autoets = autoets_model.predict(h=h).get(\"mean\")\n",
    "                errors_autoets.extend(zip(test_subset['y'].values, y_hat_autoets))\n",
    "\n",
    "                # Naive forecast\n",
    "                y_hat_naive = train_subset['y'].iloc[-seasonality:].values.tolist() * h\n",
    "                y_hat_naive = y_hat_naive[:h]\n",
    "                errors_naive.extend(zip(test_subset['y'].values, y_hat_naive))\n",
    "\n",
    "            # Aggregate forecasts for the department\n",
    "            dept_autoets_forecast = [e[1] for e in errors_autoets]\n",
    "            dept_naive_forecast = [e[1] for e in errors_naive]\n",
    "\n",
    "            autoets_forecasts.append(dept_autoets_forecast)\n",
    "            naive_forecasts.append(dept_naive_forecast)\n",
    "\n",
    "        # Aggregate to store level\n",
    "        store_autoets_forecast = np.sum(autoets_forecasts, axis=0)\n",
    "        store_naive_forecast = np.sum(naive_forecasts, axis=0)\n",
    "\n",
    "        # Calculate scaling factor at the store level\n",
    "        store_level_data = store_data.groupby('d')['revenue'].sum()\n",
    "        naive_errors = np.abs(store_level_data.values[seasonality:] - store_level_data.values[:-seasonality])\n",
    "        scaling_factor = np.mean(naive_errors)\n",
    "\n",
    "        # Calculate MASE for store level\n",
    "        mase_autoets = np.mean(np.abs(store_level_data.values[-m:] - store_autoets_forecast)) / scaling_factor\n",
    "        mase_naive = np.mean(np.abs(store_level_data.values[-m:] - store_naive_forecast)) / scaling_factor\n",
    "\n",
    "        results.append({\"store_id\": store_id, \"AutoETS_MASE\": mase_autoets, \"Naive_MASE\": mase_naive})\n",
    "\n",
    "    # Create and return the summary table\n",
    "    summary_table = pd.DataFrame(results)\n",
    "    print(\"Summary Table of MASE for Each Store:\")\n",
    "    print(summary_table)\n",
    "    print(f\"\\nAverage AutoETS MASE across all stores: {summary_table['AutoETS_MASE'].mean()}\")\n",
    "    print(f\"Average Naive MASE across all stores: {summary_table['Naive_MASE'].mean()}\")\n",
    "\n",
    "    return summary_table\n"
   ]
  },
  {
   "cell_type": "code",
   "execution_count": 7,
   "id": "9af51991",
   "metadata": {},
   "outputs": [
    {
     "name": "stderr",
     "output_type": "stream",
     "text": [
      "Processing all stores: 100%|███████████████████████████████████████████████████████████| 10/10 [10:28<00:00, 62.88s/it]"
     ]
    },
    {
     "name": "stdout",
     "output_type": "stream",
     "text": [
      "Summary Table of MASE for Each Store:\n",
      "  store_id  AutoETS_MASE  Naive_MASE\n",
      "0     CA_1      0.737865    0.846793\n",
      "1     CA_2      1.139215    1.369136\n",
      "2     CA_3      0.645090    0.847744\n",
      "3     CA_4      0.791399    0.966743\n",
      "4     TX_1      0.978194    1.436011\n",
      "5     TX_2      0.778005    0.990767\n",
      "6     TX_3      0.937347    1.458267\n",
      "7     WI_1      0.884681    1.263655\n",
      "8     WI_2      1.034778    1.604636\n",
      "9     WI_3      0.821734    1.143391\n",
      "\n",
      "Average AutoETS MASE across all stores: 0.8748308955131895\n",
      "Average Naive MASE across all stores: 1.1927142467832386\n"
     ]
    },
    {
     "name": "stderr",
     "output_type": "stream",
     "text": [
      "\n"
     ]
    }
   ],
   "source": [
    "\n",
    "# Load data\n",
    "data = pd.read_csv(\"C:/Data/M5store_department.csv\")\n",
    "\n",
    "# Add 'store_id' from 'store_dept_id'\n",
    "data['store_id'] = data['store_dept_id'].str.split('_').str[:2].str.join('_')\n",
    "\n",
    "# Parameters\n",
    "m = 28  # Last m points for cross-validation\n",
    "h = 1  # Forecast horizon\n",
    "seasonality = 7  # Weekly seasonality for daily data\n",
    "\n",
    "# Run bottom-up forecasting\n",
    "summary_table = bottom_up_forecasting(data, m, h, seasonality)\n"
   ]
  },
  {
   "cell_type": "code",
   "execution_count": null,
   "id": "36408b12-24b2-4bf8-9fa9-2064b5f2f655",
   "metadata": {},
   "outputs": [],
   "source": []
  }
 ],
 "metadata": {
  "kernelspec": {
   "display_name": "Python 3 (ipykernel)",
   "language": "python",
   "name": "python3"
  },
  "language_info": {
   "codemirror_mode": {
    "name": "ipython",
    "version": 3
   },
   "file_extension": ".py",
   "mimetype": "text/x-python",
   "name": "python",
   "nbconvert_exporter": "python",
   "pygments_lexer": "ipython3",
   "version": "3.12.2"
  }
 },
 "nbformat": 4,
 "nbformat_minor": 5
}
