{
 "cells": [
  {
   "cell_type": "code",
   "execution_count": 1,
   "id": "da09f05d-009a-4d3e-b352-3be7f015f868",
   "metadata": {},
   "outputs": [],
   "source": [
    "# Importing all necessary libraries here\n",
    "\n",
    "import pandas as pd\n",
    "import numpy as np\n",
    "import matplotlib.pyplot as plt\n",
    "from sklearn.linear_model import LogisticRegression\n",
    "from sklearn.model_selection import train_test_split\n",
    "from sklearn.metrics import confusion_matrix, classification_report,accuracy_score,roc_curve, auc, precision_recall_curve, f1_score\n",
    "from sklearn.preprocessing import StandardScaler"
   ]
  },
  {
   "cell_type": "code",
   "execution_count": 2,
   "id": "c65b18dd-eb0e-4e91-97f1-41650e4dc4b8",
   "metadata": {},
   "outputs": [
    {
     "name": "stdout",
     "output_type": "stream",
     "text": [
      "<class 'pandas.core.frame.DataFrame'>\n",
      "RangeIndex: 923 entries, 0 to 922\n",
      "Data columns (total 49 columns):\n",
      " #   Column                    Non-Null Count  Dtype  \n",
      "---  ------                    --------------  -----  \n",
      " 0   Unnamed: 0                923 non-null    int64  \n",
      " 1   state_code                923 non-null    object \n",
      " 2   latitude                  923 non-null    float64\n",
      " 3   longitude                 923 non-null    float64\n",
      " 4   zip_code                  923 non-null    object \n",
      " 5   id                        923 non-null    object \n",
      " 6   city                      923 non-null    object \n",
      " 7   Unnamed: 6                430 non-null    object \n",
      " 8   name                      923 non-null    object \n",
      " 9   labels                    923 non-null    int64  \n",
      " 10  founded_at                923 non-null    object \n",
      " 11  closed_at                 335 non-null    object \n",
      " 12  first_funding_at          923 non-null    object \n",
      " 13  last_funding_at           923 non-null    object \n",
      " 14  age_first_funding_year    923 non-null    float64\n",
      " 15  age_last_funding_year     923 non-null    float64\n",
      " 16  age_first_milestone_year  771 non-null    float64\n",
      " 17  age_last_milestone_year   771 non-null    float64\n",
      " 18  relationships             923 non-null    int64  \n",
      " 19  funding_rounds            923 non-null    int64  \n",
      " 20  funding_total_usd         923 non-null    int64  \n",
      " 21  milestones                923 non-null    int64  \n",
      " 22  state_code.1              922 non-null    object \n",
      " 23  is_CA                     923 non-null    int64  \n",
      " 24  is_NY                     923 non-null    int64  \n",
      " 25  is_MA                     923 non-null    int64  \n",
      " 26  is_TX                     923 non-null    int64  \n",
      " 27  is_otherstate             923 non-null    int64  \n",
      " 28  category_code             923 non-null    object \n",
      " 29  is_software               923 non-null    int64  \n",
      " 30  is_web                    923 non-null    int64  \n",
      " 31  is_mobile                 923 non-null    int64  \n",
      " 32  is_enterprise             923 non-null    int64  \n",
      " 33  is_advertising            923 non-null    int64  \n",
      " 34  is_gamesvideo             923 non-null    int64  \n",
      " 35  is_ecommerce              923 non-null    int64  \n",
      " 36  is_biotech                923 non-null    int64  \n",
      " 37  is_consulting             923 non-null    int64  \n",
      " 38  is_othercategory          923 non-null    int64  \n",
      " 39  object_id                 923 non-null    object \n",
      " 40  has_VC                    923 non-null    int64  \n",
      " 41  has_angel                 923 non-null    int64  \n",
      " 42  has_roundA                923 non-null    int64  \n",
      " 43  has_roundB                923 non-null    int64  \n",
      " 44  has_roundC                923 non-null    int64  \n",
      " 45  has_roundD                923 non-null    int64  \n",
      " 46  avg_participants          923 non-null    float64\n",
      " 47  is_top500                 923 non-null    int64  \n",
      " 48  status                    923 non-null    object \n",
      "dtypes: float64(7), int64(28), object(14)\n",
      "memory usage: 353.5+ KB\n",
      "None\n"
     ]
    }
   ],
   "source": [
    "#reading in the data; adjust as needed\n",
    "\n",
    "df = pd.read_csv('C:/data/startup data.csv')\n",
    "print(df.info())"
   ]
  },
  {
   "cell_type": "code",
   "execution_count": 4,
   "id": "bf6d5592-e94f-4da1-8400-9132236148e6",
   "metadata": {},
   "outputs": [
    {
     "name": "stdout",
     "output_type": "stream",
     "text": [
      "<bound method NDFrame.head of      Unnamed: 0  latitude  longitude  age_first_funding_year  \\\n",
      "0      1.297828  1.027268   1.451271                0.005448   \n",
      "1     -1.104657 -0.341900  -0.823630                1.151960   \n",
      "2      1.285831 -1.501922  -0.610018               -0.479349   \n",
      "3      0.497000 -0.320134  -0.827040                0.357050   \n",
      "4      1.288830 -0.197397  -0.843535               -0.891013   \n",
      "..          ...       ...        ...                     ...   \n",
      "918   -0.660752 -0.207743  -0.841624               -0.684643   \n",
      "919    0.446011  1.066294   1.445070                1.999320   \n",
      "920   -0.045884 -0.296615  -0.825515                2.495038   \n",
      "921    0.050095 -0.256911  -0.837688               -0.588552   \n",
      "922   -0.330823 -0.302359  -0.823297                0.352666   \n",
      "\n",
      "     age_last_funding_year  age_first_milestone_year  age_last_milestone_year  \\\n",
      "0                -0.313102                  0.542211                 0.607372   \n",
      "1                 2.044918                  1.327724                 0.701265   \n",
      "2                -0.977162                 -0.537071                -0.794051   \n",
      "3                 0.466454                  0.990663                 0.388869   \n",
      "4                -0.762888                 -1.014059                -1.469155   \n",
      "..                     ...                       ...                      ...   \n",
      "918              -1.150812                 -0.831747                -0.071159   \n",
      "919               1.785369                  0.990663                 0.388869   \n",
      "920               1.538766                  1.999965                 1.324314   \n",
      "921              -0.370345                 -0.771884                -0.286235   \n",
      "922              -0.273390                  0.318422                -0.234180   \n",
      "\n",
      "     relationships  funding_rounds  funding_total_usd  milestones  \\\n",
      "0        -0.648696        0.495665          -0.132140    0.876138   \n",
      "1         0.177541        1.215002           0.077455   -0.636819   \n",
      "2        -0.373284       -0.943010          -0.120401    0.119660   \n",
      "3        -0.373284        0.495665           0.076928   -0.636819   \n",
      "4        -0.786402       -0.223673          -0.127260   -0.636819   \n",
      "..             ...             ...                ...         ...   \n",
      "918       0.177541       -0.943010          -0.128315    0.119660   \n",
      "919      -0.924108        0.495665           0.140242   -0.636819   \n",
      "920      -0.373284       -0.943010           0.098032   -0.636819   \n",
      "921       0.590659       -0.223673          -0.052338    0.119660   \n",
      "922      -0.510990       -0.943010          -0.028595   -0.636819   \n",
      "\n",
      "     avg_participants  \n",
      "0           -0.981320  \n",
      "1            1.020191  \n",
      "2            0.619888  \n",
      "3            0.264047  \n",
      "4           -0.981320  \n",
      "..                ...  \n",
      "918          1.687361  \n",
      "919         -0.091742  \n",
      "920          2.754833  \n",
      "921         -0.981320  \n",
      "922          0.086152  \n",
      "\n",
      "[923 rows x 12 columns]>\n"
     ]
    }
   ],
   "source": [
    "# This stndardizes all non 0/1 columns in the dataset\n",
    "\n",
    "numerical_columns = df.select_dtypes(include=['float64', 'int64']).columns\n",
    "non_binary_columns = [col for col in numerical_columns if df[col].nunique() > 2]\n",
    "scaler = StandardScaler()\n",
    "df[non_binary_columns] = scaler.fit_transform(df[non_binary_columns])\n",
    "print(df[non_binary_columns].head)"
   ]
  },
  {
   "cell_type": "code",
   "execution_count": 5,
   "id": "eafde159-5792-4990-9381-0ebdd1af4535",
   "metadata": {},
   "outputs": [
    {
     "data": {
      "text/plain": [
       "0      1\n",
       "1      1\n",
       "2      1\n",
       "3      1\n",
       "4      0\n",
       "      ..\n",
       "918    1\n",
       "919    0\n",
       "920    0\n",
       "921    1\n",
       "922    1\n",
       "Name: status, Length: 923, dtype: int32"
      ]
     },
     "execution_count": 5,
     "metadata": {},
     "output_type": "execute_result"
    }
   ],
   "source": [
    "# encoding the dependent variable\n",
    "\n",
    "df['status'] = df.status.map({'acquired':1, 'closed':0})\n",
    "df['status'].astype(int)"
   ]
  },
  {
   "cell_type": "code",
   "execution_count": 6,
   "id": "4976afd3-06c4-47df-9b14-7ada9a2e217e",
   "metadata": {},
   "outputs": [
    {
     "data": {
      "text/html": [
       "<style type=\"text/css\">\n",
       "#T_45cf9_row0_col0, #T_45cf9_row0_col1 {\n",
       "  background-color: #7ad151;\n",
       "  color: #000000;\n",
       "}\n",
       "#T_45cf9_row1_col0, #T_45cf9_row1_col1 {\n",
       "  background-color: #cde11d;\n",
       "  color: #000000;\n",
       "}\n",
       "#T_45cf9_row2_col0, #T_45cf9_row2_col1, #T_45cf9_row3_col0, #T_45cf9_row3_col1 {\n",
       "  background-color: #2e6d8e;\n",
       "  color: #f1f1f1;\n",
       "}\n",
       "#T_45cf9_row4_col0, #T_45cf9_row4_col1 {\n",
       "  background-color: #453581;\n",
       "  color: #f1f1f1;\n",
       "}\n",
       "</style>\n",
       "<table id=\"T_45cf9\">\n",
       "  <thead>\n",
       "    <tr>\n",
       "      <th class=\"blank level0\" >&nbsp;</th>\n",
       "      <th id=\"T_45cf9_level0_col0\" class=\"col_heading level0 col0\" >Null Values</th>\n",
       "      <th id=\"T_45cf9_level0_col1\" class=\"col_heading level0 col1\" >% Missing Values</th>\n",
       "    </tr>\n",
       "  </thead>\n",
       "  <tbody>\n",
       "    <tr>\n",
       "      <th id=\"T_45cf9_level0_row0\" class=\"row_heading level0 row0\" >Unnamed: 6</th>\n",
       "      <td id=\"T_45cf9_row0_col0\" class=\"data row0 col0\" >493</td>\n",
       "      <td id=\"T_45cf9_row0_col1\" class=\"data row0 col1\" >53.412784</td>\n",
       "    </tr>\n",
       "    <tr>\n",
       "      <th id=\"T_45cf9_level0_row1\" class=\"row_heading level0 row1\" >closed_at</th>\n",
       "      <td id=\"T_45cf9_row1_col0\" class=\"data row1 col0\" >588</td>\n",
       "      <td id=\"T_45cf9_row1_col1\" class=\"data row1 col1\" >63.705309</td>\n",
       "    </tr>\n",
       "    <tr>\n",
       "      <th id=\"T_45cf9_level0_row2\" class=\"row_heading level0 row2\" >age_first_milestone_year</th>\n",
       "      <td id=\"T_45cf9_row2_col0\" class=\"data row2 col0\" >152</td>\n",
       "      <td id=\"T_45cf9_row2_col1\" class=\"data row2 col1\" >16.468039</td>\n",
       "    </tr>\n",
       "    <tr>\n",
       "      <th id=\"T_45cf9_level0_row3\" class=\"row_heading level0 row3\" >age_last_milestone_year</th>\n",
       "      <td id=\"T_45cf9_row3_col0\" class=\"data row3 col0\" >152</td>\n",
       "      <td id=\"T_45cf9_row3_col1\" class=\"data row3 col1\" >16.468039</td>\n",
       "    </tr>\n",
       "    <tr>\n",
       "      <th id=\"T_45cf9_level0_row4\" class=\"row_heading level0 row4\" >state_code.1</th>\n",
       "      <td id=\"T_45cf9_row4_col0\" class=\"data row4 col0\" >1</td>\n",
       "      <td id=\"T_45cf9_row4_col1\" class=\"data row4 col1\" >0.108342</td>\n",
       "    </tr>\n",
       "  </tbody>\n",
       "</table>\n"
      ],
      "text/plain": [
       "<pandas.io.formats.style.Styler at 0x1a1eb0803b0>"
      ]
     },
     "execution_count": 6,
     "metadata": {},
     "output_type": "execute_result"
    }
   ],
   "source": [
    "#checking for missing values\n",
    "\n",
    "null=pd.DataFrame(df.isnull().sum(),columns=[\"Null Values\"])\n",
    "null[\"% Missing Values\"]=(df.isna().sum()/len(df)*100)\n",
    "null = null[null[\"% Missing Values\"] > 0]\n",
    "null.style.background_gradient(cmap='viridis',low =0.2,high=0.1)"
   ]
  },
  {
   "cell_type": "code",
   "execution_count": 7,
   "id": "d6050ca3-d23d-4b48-ac3d-59ed590954d6",
   "metadata": {},
   "outputs": [],
   "source": [
    "# filling in some missing values\n",
    "\n",
    "df['age_first_milestone_year'] = df['age_first_milestone_year'].fillna(value=\"0\")\n",
    "df['age_last_milestone_year'] = df['age_last_milestone_year'].fillna(value=\"0\")"
   ]
  },
  {
   "cell_type": "code",
   "execution_count": 8,
   "id": "895b093c-68ba-44b7-b318-468d56d53ed4",
   "metadata": {},
   "outputs": [
    {
     "name": "stdout",
     "output_type": "stream",
     "text": [
      "Duplicate Rows :\n"
     ]
    }
   ],
   "source": [
    "# checking for duplicate rows\n",
    "\n",
    "duplicate = df[df.duplicated()] \n",
    "print(\"Duplicate Rows :\")"
   ]
  },
  {
   "cell_type": "code",
   "execution_count": 9,
   "id": "8cdbda0b-d93f-4c18-8bb9-8b41ed4f515a",
   "metadata": {},
   "outputs": [],
   "source": [
    "# engineering some additional features taken from the notebook in the repository\n",
    "\n",
    "df['has_RoundABCD'] = np.where((df['has_roundA'] == 1) | (df['has_roundB'] == 1) | (df['has_roundC'] == 1) | (df['has_roundD'] == 1), 1, 0)\n",
    "df['has_Investor'] = np.where((df['has_VC'] == 1) | (df['has_angel'] == 1), 1, 0)\n",
    "df['has_Seed'] = np.where((df['has_RoundABCD'] == 0) & (df['has_Investor'] == 1), 1, 0)\n",
    "df['invalid_startup'] = np.where((df['has_RoundABCD'] == 0) & (df['has_VC'] == 0) & (df['has_angel'] == 0), 1, 0)"
   ]
  },
  {
   "cell_type": "code",
   "execution_count": 10,
   "id": "ca1d10ed-9704-4fd8-a2c9-8fa64c79f0cf",
   "metadata": {},
   "outputs": [
    {
     "name": "stdout",
     "output_type": "stream",
     "text": [
      "Index(['Unnamed: 0', 'state_code', 'latitude', 'longitude', 'zip_code', 'id',\n",
      "       'city', 'Unnamed: 6', 'name', 'labels', 'founded_at', 'closed_at',\n",
      "       'first_funding_at', 'last_funding_at', 'age_first_funding_year',\n",
      "       'age_last_funding_year', 'age_first_milestone_year',\n",
      "       'age_last_milestone_year', 'relationships', 'funding_rounds',\n",
      "       'funding_total_usd', 'milestones', 'state_code.1', 'is_CA', 'is_NY',\n",
      "       'is_MA', 'is_TX', 'is_otherstate', 'category_code', 'is_software',\n",
      "       'is_web', 'is_mobile', 'is_enterprise', 'is_advertising',\n",
      "       'is_gamesvideo', 'is_ecommerce', 'is_biotech', 'is_consulting',\n",
      "       'is_othercategory', 'object_id', 'has_VC', 'has_angel', 'has_roundA',\n",
      "       'has_roundB', 'has_roundC', 'has_roundD', 'avg_participants',\n",
      "       'is_top500', 'status', 'has_RoundABCD', 'has_Investor', 'has_Seed',\n",
      "       'invalid_startup'],\n",
      "      dtype='object')\n"
     ]
    }
   ],
   "source": [
    "print(df.columns)"
   ]
  },
  {
   "cell_type": "code",
   "execution_count": 11,
   "id": "8439a3c7-981c-4c5a-a55a-8e21215b514d",
   "metadata": {},
   "outputs": [],
   "source": [
    "# dropping all features not used in the analysis\n",
    "\n",
    "df = df.drop(['state_code'],axis=1)\n",
    "df = df.drop(['id'],axis=1)\n",
    "df = df.drop(['Unnamed: 6'],axis=1)\n",
    "df = df.drop(['category_code'],axis=1)\n",
    "df = df.drop(['object_id'],axis=1)\n",
    "df = df.drop(['zip_code'],axis=1)\n",
    "df = df.drop(['founded_at'],axis=1)\n",
    "df = df.drop(['closed_at'],axis=1)\n",
    "df = df.drop(['first_funding_at'],axis=1)\n",
    "df = df.drop(['last_funding_at'],axis=1)\n",
    "df = df.drop(['city'],axis=1)\n",
    "df = df.drop(['name'],axis=1)\n",
    "df = df.drop(['Unnamed: 0'],axis=1)\n",
    "df = df.drop(['latitude','longitude'],axis=1)\n",
    "df = df.drop(['state_code.1'],axis=1)\n",
    "df = df.drop(['is_otherstate'],axis=1)\n",
    "df = df.drop(['is_othercategory'],axis=1)\n",
    "df = df.drop(['labels'],axis=1)"
   ]
  },
  {
   "cell_type": "code",
   "execution_count": 12,
   "id": "9b0cf8dc-396b-40c8-80a6-6ae37586da46",
   "metadata": {},
   "outputs": [
    {
     "name": "stdout",
     "output_type": "stream",
     "text": [
      "Index(['age_first_funding_year', 'age_last_funding_year',\n",
      "       'age_first_milestone_year', 'age_last_milestone_year', 'relationships',\n",
      "       'funding_rounds', 'funding_total_usd', 'milestones', 'is_CA', 'is_NY',\n",
      "       'is_MA', 'is_TX', 'is_software', 'is_web', 'is_mobile', 'is_enterprise',\n",
      "       'is_advertising', 'is_gamesvideo', 'is_ecommerce', 'is_biotech',\n",
      "       'is_consulting', 'has_VC', 'has_angel', 'has_roundA', 'has_roundB',\n",
      "       'has_roundC', 'has_roundD', 'avg_participants', 'is_top500', 'status',\n",
      "       'has_RoundABCD', 'has_Investor', 'has_Seed', 'invalid_startup'],\n",
      "      dtype='object')\n"
     ]
    }
   ],
   "source": [
    "print(df.columns)"
   ]
  },
  {
   "cell_type": "code",
   "execution_count": 13,
   "id": "87faf8a8-819e-409b-8656-0006e16767b9",
   "metadata": {},
   "outputs": [],
   "source": [
    "X = df.drop('status', axis = 1)\n",
    "y = df['status']"
   ]
  },
  {
   "cell_type": "code",
   "execution_count": 14,
   "id": "1f65bf01-a898-40f1-9b55-0753afdbe636",
   "metadata": {},
   "outputs": [],
   "source": [
    "X_train, X_test, y_train, y_test = train_test_split(X, y, test_size=0.3, random_state=42)"
   ]
  },
  {
   "cell_type": "code",
   "execution_count": 15,
   "id": "bfa2274a-bd01-4812-846b-ba0c26ce9b4b",
   "metadata": {},
   "outputs": [
    {
     "data": {
      "image/png": "[encoded data removed]",
      "text/plain": [
       "<Figure size 800x600 with 1 Axes>"
      ]
     },
     "metadata": {},
     "output_type": "display_data"
    }
   ],
   "source": [
    "# A plot of how accuracy in the test dataset depends on the regularization strength\n",
    "\n",
    "C_values = np.logspace(-3, 1, 100)\n",
    "accuracies = []\n",
    "for C in C_values:\n",
    "    lasso_model = LogisticRegression(penalty='l1', solver='liblinear', C=C)\n",
    "    lasso_model.fit(X_train, y_train)\n",
    "    y_pred = lasso_model.predict(X_test)\n",
    "    accuracy = accuracy_score(y_test, y_pred)\n",
    "    accuracies.append(accuracy)\n",
    "\n",
    "plt.figure(figsize=(8, 6))\n",
    "plt.plot(1/C_values, accuracies, marker='o')\n",
    "plt.xscale('log')\n",
    "plt.xlabel('Lambda')\n",
    "plt.ylabel('Accuracy')\n",
    "plt.title('Accuracy vs. Lambda in LASSO Regularization')\n",
    "plt.grid(True)\n",
    "plt.show()"
   ]
  },
  {
   "cell_type": "code",
   "execution_count": null,
   "id": "41aacc3c-fdb0-45b9-be9a-a73f7ccefb47",
   "metadata": {},
   "outputs": [],
   "source": []
  }
 ],
 "metadata": {
  "kernelspec": {
   "display_name": "Python 3 (ipykernel)",
   "language": "python",
   "name": "python3"
  },
  "language_info": {
   "codemirror_mode": {
    "name": "ipython",
    "version": 3
   },
   "file_extension": ".py",
   "mimetype": "text/x-python",
   "name": "python",
   "nbconvert_exporter": "python",
   "pygments_lexer": "ipython3",
   "version": "3.12.2"
  }
 },
 "nbformat": 4,
 "nbformat_minor": 5
}
