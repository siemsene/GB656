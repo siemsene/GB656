{
 "cells": [
  {
   "cell_type": "code",
   "execution_count": 9,
   "id": "47bb8247-2bde-4abe-a459-be6c74b0b54e",
   "metadata": {},
   "outputs": [
    {
     "name": "stdout",
     "output_type": "stream",
     "text": [
      "Epoch 1/10\n"
     ]
    },
    {
     "name": "stderr",
     "output_type": "stream",
     "text": [
      "C:\\Users\\siems\\AppData\\Local\\Programs\\Python\\Python312\\Lib\\site-packages\\keras\\src\\layers\\core\\dense.py:87: UserWarning: Do not pass an `input_shape`/`input_dim` argument to a layer. When using Sequential models, prefer using an `Input(shape)` object as the first layer in the model instead.\n",
      "  super().__init__(activity_regularizer=activity_regularizer, **kwargs)\n"
     ]
    },
    {
     "name": "stdout",
     "output_type": "stream",
     "text": [
      "\u001b[1m8/8\u001b[0m \u001b[32m━━━━━━━━━━━━━━━━━━━━\u001b[0m\u001b[37m\u001b[0m \u001b[1m1s\u001b[0m 23ms/step - accuracy: 0.0112 - loss: 3.6147 - val_accuracy: 0.0000e+00 - val_loss: 3.6211\n",
      "Epoch 2/10\n",
      "\u001b[1m8/8\u001b[0m \u001b[32m━━━━━━━━━━━━━━━━━━━━\u001b[0m\u001b[37m\u001b[0m \u001b[1m0s\u001b[0m 7ms/step - accuracy: 0.0327 - loss: 3.6061 - val_accuracy: 0.0000e+00 - val_loss: 3.6133\n",
      "Epoch 3/10\n",
      "\u001b[1m8/8\u001b[0m \u001b[32m━━━━━━━━━━━━━━━━━━━━\u001b[0m\u001b[37m\u001b[0m \u001b[1m0s\u001b[0m 7ms/step - accuracy: 0.0457 - loss: 3.6005 - val_accuracy: 0.0167 - val_loss: 3.6064\n",
      "Epoch 4/10\n",
      "\u001b[1m8/8\u001b[0m \u001b[32m━━━━━━━━━━━━━━━━━━━━\u001b[0m\u001b[37m\u001b[0m \u001b[1m0s\u001b[0m 7ms/step - accuracy: 0.0395 - loss: 3.5884 - val_accuracy: 0.0333 - val_loss: 3.5992\n",
      "Epoch 5/10\n",
      "\u001b[1m8/8\u001b[0m \u001b[32m━━━━━━━━━━━━━━━━━━━━\u001b[0m\u001b[37m\u001b[0m \u001b[1m0s\u001b[0m 6ms/step - accuracy: 0.0492 - loss: 3.5772 - val_accuracy: 0.0500 - val_loss: 3.5924\n",
      "Epoch 6/10\n",
      "\u001b[1m8/8\u001b[0m \u001b[32m━━━━━━━━━━━━━━━━━━━━\u001b[0m\u001b[37m\u001b[0m \u001b[1m0s\u001b[0m 6ms/step - accuracy: 0.0981 - loss: 3.5632 - val_accuracy: 0.0333 - val_loss: 3.5856\n",
      "Epoch 7/10\n",
      "\u001b[1m8/8\u001b[0m \u001b[32m━━━━━━━━━━━━━━━━━━━━\u001b[0m\u001b[37m\u001b[0m \u001b[1m0s\u001b[0m 6ms/step - accuracy: 0.0764 - loss: 3.5601 - val_accuracy: 0.0333 - val_loss: 3.5776\n",
      "Epoch 8/10\n",
      "\u001b[1m8/8\u001b[0m \u001b[32m━━━━━━━━━━━━━━━━━━━━\u001b[0m\u001b[37m\u001b[0m \u001b[1m0s\u001b[0m 6ms/step - accuracy: 0.0855 - loss: 3.5576 - val_accuracy: 0.0333 - val_loss: 3.5693\n",
      "Epoch 9/10\n",
      "\u001b[1m8/8\u001b[0m \u001b[32m━━━━━━━━━━━━━━━━━━━━\u001b[0m\u001b[37m\u001b[0m \u001b[1m0s\u001b[0m 6ms/step - accuracy: 0.0649 - loss: 3.5404 - val_accuracy: 0.0333 - val_loss: 3.5605\n",
      "Epoch 10/10\n",
      "\u001b[1m8/8\u001b[0m \u001b[32m━━━━━━━━━━━━━━━━━━━━\u001b[0m\u001b[37m\u001b[0m \u001b[1m0s\u001b[0m 6ms/step - accuracy: 0.0634 - loss: 3.5279 - val_accuracy: 0.0333 - val_loss: 3.5510\n"
     ]
    }
   ],
   "source": [
    "import pandas as pd\n",
    "import numpy as np\n",
    "from sklearn.model_selection import train_test_split\n",
    "from sklearn.preprocessing import MultiLabelBinarizer\n",
    "from tensorflow.keras.models import Sequential\n",
    "from tensorflow.keras.layers import Dense\n",
    "from tensorflow.keras.optimizers import Adam\n",
    "\n",
    "# Load data\n",
    "file_path = \"C:/Data/restaurant_preferences.xlsx\"\n",
    "data = pd.read_excel(file_path)\n",
    "\n",
    "# Extract usernames and preferences\n",
    "usernames = data.iloc[:, 0]  # First column is username\n",
    "restaurants = data.iloc[:, 1:]  # Remaining columns are restaurant preferences\n",
    "\n",
    "# Handle missing values by replacing with an empty string\n",
    "restaurants = restaurants.fillna(\"\")\n",
    "\n",
    "# Convert rows of restaurant preferences to a list of unique values per user\n",
    "restaurant_lists = restaurants.apply(lambda x: [r for r in x if r != \"\"], axis=1)\n",
    "\n",
    "# One-hot encode the restaurant preferences\n",
    "mlb = MultiLabelBinarizer()\n",
    "one_hot_restaurants = mlb.fit_transform(restaurant_lists)\n",
    "\n",
    "# Convert to a DataFrame for easier manipulation\n",
    "restaurant_df = pd.DataFrame(one_hot_restaurants, columns=mlb.classes_)\n",
    "\n",
    "# Create training data using leave-one-out for each user\n",
    "X, y = [], []\n",
    "for row in restaurant_df.itertuples(index=False):\n",
    "    liked_restaurants = np.where(row)[0]  # Get indices of liked restaurants\n",
    "    if len(liked_restaurants) < 2:\n",
    "        # Skip users with fewer than 2 preferences, as we need at least one for training\n",
    "        continue\n",
    "    \n",
    "    # Leave-one-out: for each restaurant in the liked list, create a separate training instance\n",
    "    for left_out_idx in liked_restaurants:\n",
    "        # Input features: All but the left-out restaurant\n",
    "        input_features = np.array(row, dtype=int)\n",
    "        input_features[left_out_idx] = 0  # \"Leave out\" one restaurant\n",
    "        \n",
    "        X.append(input_features)\n",
    "        y.append(left_out_idx)  # Target: the index of the left-out restaurant\n",
    "\n",
    "X, y = np.array(X), np.array(y)\n",
    "\n",
    "# Define the neural network model\n",
    "model = Sequential([\n",
    "    Dense(16, activation='relu', input_shape=(X.shape[1],)),\n",
    "    Dense(8, activation='relu'),\n",
    "    Dense(X.shape[1], activation='softmax')  # Output layer with softmax for probabilities\n",
    "])\n",
    "\n",
    "model.compile(optimizer=Adam(learning_rate=0.001), loss='sparse_categorical_crossentropy', metrics=['accuracy'])\n",
    "\n",
    "# Train the model\n",
    "model.fit(X, y, epochs=10, batch_size=32, validation_split=0.2)\n",
    "\n",
    "# Function for predicting a left-out restaurant for a new user\n",
    "def recommend_restaurant(selected_restaurants):\n",
    "    # Convert selected restaurants to one-hot encoding\n",
    "    input_vector = np.zeros(X.shape[1])\n",
    "    for restaurant in selected_restaurants:\n",
    "        if restaurant in mlb.classes_:\n",
    "            input_vector[mlb.classes_.tolist().index(restaurant)] = 1\n",
    "    \n",
    "    # Predict the probabilities for each restaurant\n",
    "    prediction = model.predict(input_vector.reshape(1, -1))\n",
    "    recommended_index = np.argmax(prediction)\n",
    "    return mlb.classes_[recommended_index]"
   ]
  },
  {
   "cell_type": "code",
   "execution_count": 7,
   "id": "9cdea2aa-9892-4dc9-b1b7-bf97e447d5b4",
   "metadata": {},
   "outputs": [
    {
     "name": "stdout",
     "output_type": "stream",
     "text": [
      "\u001b[1m1/1\u001b[0m \u001b[32m━━━━━━━━━━━━━━━━━━━━\u001b[0m\u001b[37m\u001b[0m \u001b[1m0s\u001b[0m 47ms/step\n",
      "\u001b[1m1/1\u001b[0m \u001b[32m━━━━━━━━━━━━━━━━━━━━\u001b[0m\u001b[37m\u001b[0m \u001b[1m0s\u001b[0m 19ms/step\n"
     ]
    }
   ],
   "source": [
    "import tkinter as tk\n",
    "from tkinter import messagebox\n",
    "from tensorflow.keras.models import load_model  # If you saved your model, you can load it\n",
    "\n",
    "# Initialize main GUI window\n",
    "root = tk.Tk()\n",
    "root.title(\"Restaurant Recommender System\")\n",
    "root.geometry(\"400x300\")\n",
    "\n",
    "# Load the unique restaurant list for dropdown options\n",
    "restaurant_list = mlb.classes_.tolist()\n",
    "\n",
    "# Variables to store selected restaurants\n",
    "selected_restaurants = [tk.StringVar() for _ in range(4)]\n",
    "\n",
    "# Create dropdowns for restaurant selection\n",
    "dropdown_labels = [\"Restaurant 1\", \"Restaurant 2\", \"Restaurant 3\", \"Restaurant 4\"]\n",
    "for i in range(4):\n",
    "    tk.Label(root, text=dropdown_labels[i]).pack()\n",
    "    tk.OptionMenu(root, selected_restaurants[i], *restaurant_list).pack()\n",
    "\n",
    "# Function to get recommendations based on selected restaurants\n",
    "def get_recommendation():\n",
    "    # Gather selected restaurant choices\n",
    "    selected = [var.get() for var in selected_restaurants]\n",
    "    \n",
    "    # Check if all dropdowns have a valid selection\n",
    "    if \"\" in selected:\n",
    "        messagebox.showwarning(\"Incomplete Selection\", \"Please select four restaurants.\")\n",
    "        return\n",
    "    \n",
    "    # Use the model to predict the recommended restaurant\n",
    "    recommended_restaurant = recommend_restaurant(selected)\n",
    "    messagebox.showinfo(\"Recommendation\", f\"We recommend you try: {recommended_restaurant}\")\n",
    "\n",
    "# Button to get recommendations\n",
    "tk.Button(root, text=\"Get Recommendation\", command=get_recommendation).pack()\n",
    "\n",
    "# Run the GUI application\n",
    "root.mainloop()"
   ]
  },
  {
   "cell_type": "code",
   "execution_count": null,
   "id": "647fbe43-bb80-4afc-9f92-7219deb7068c",
   "metadata": {},
   "outputs": [],
   "source": []
  }
 ],
 "metadata": {
  "kernelspec": {
   "display_name": "Python 3 (ipykernel)",
   "language": "python",
   "name": "python3"
  },
  "language_info": {
   "codemirror_mode": {
    "name": "ipython",
    "version": 3
   },
   "file_extension": ".py",
   "mimetype": "text/x-python",
   "name": "python",
   "nbconvert_exporter": "python",
   "pygments_lexer": "ipython3",
   "version": "3.12.2"
  }
 },
 "nbformat": 4,
 "nbformat_minor": 5
}
