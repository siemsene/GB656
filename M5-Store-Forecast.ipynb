{
 "cells": [
  {
   "cell_type": "code",
   "execution_count": 1,
   "id": "ca84fc2b-fb78-4c83-ada8-3824937351bc",
   "metadata": {},
   "outputs": [],
   "source": [
    "# Import necessary libraries\n",
    "import pandas as pd\n",
    "import numpy as np\n",
    "from statsforecast import StatsForecast\n",
    "from statsforecast.models import AutoETS\n",
    "from tqdm import tqdm\n",
    "import os\n",
    "\n",
    "os.environ[\"NIXTLA_ID_AS_COL\"] = \"False\""
   ]
  },
  {
   "cell_type": "code",
   "execution_count": 2,
   "id": "3633a4b6-e3d8-4e05-9b06-3e2936ad9477",
   "metadata": {},
   "outputs": [],
   "source": [
    "# Load data files\n",
    "data = pd.read_csv(\"C:/Data/M5store.csv\")"
   ]
  },
  {
   "cell_type": "code",
   "execution_count": 3,
   "id": "d2a5c9cb-9c01-458e-ac4e-82edb4f1d7c9",
   "metadata": {},
   "outputs": [],
   "source": [
    "# Define the MASE function\n",
    "def mase(y, y_pred, y_train, seasonality=1):\n",
    "    \"\"\"\n",
    "    Calculate Mean Absolute Scaled Error (MASE)\n",
    "    y: Actual values\n",
    "    y_pred: Predicted values\n",
    "    y_train: Training data for scaling factor\n",
    "    seasonality: Seasonal period for naive forecasting\n",
    "    \"\"\"\n",
    "    mae = np.mean(np.abs(y - y_pred))\n",
    "    naive_forecast_errors = np.abs(y_train[seasonality:] - y_train[:-seasonality])\n",
    "    scaling_factor = np.mean(naive_forecast_errors)\n",
    "    return mae / scaling_factor\n",
    "\n",
    "# Leave-One-Out Cross-Validation for last m points\n",
    "def leave_one_out_cv_last_m_with_naive(df, m, h, model, seasonality=7):\n",
    "    \"\"\"\n",
    "    Perform Leave-One-Out Cross-Validation on the last m data points with both AutoETS and naive forecasts.\n",
    "    \n",
    "    df: DataFrame with columns 'ds', 'y', and 'unique_id'.\n",
    "    m: Number of data points from the end of the dataset for cross-validation.\n",
    "    h: Number of steps ahead for forecasting.\n",
    "    model: Model object with .fit() and .predict() methods.\n",
    "    seasonality: Seasonal period for naive forecasting.\n",
    "    \n",
    "    Returns:\n",
    "    - MASE values for AutoETS and naive forecasts.\n",
    "    \"\"\"\n",
    "    errors_autoets = []  # Store actual and predicted values for AutoETS\n",
    "    errors_naive = []    # Store actual and predicted values for naive forecast\n",
    "    start_index = len(df) - m  # Start index for cross-validation\n",
    "\n",
    "    for i in range(start_index, len(df) - h + 1):\n",
    "        # Training and test split\n",
    "        train_subset = df.iloc[:i]  # Use all points up to the current fold\n",
    "        test_subset = df.iloc[i:i + h]\n",
    "\n",
    "        # Fit the model on the training subset\n",
    "        autoets = model.fit(train_subset['y'].values)\n",
    "\n",
    "        # Predict for the test subset using AutoETS\n",
    "        y_hat_autoets = autoets.predict(h=h).get(\"mean\")\n",
    "        errors_autoets.extend(zip(test_subset['y'].values, y_hat_autoets))\n",
    "\n",
    "        # Calculate naive forecast\n",
    "        y_hat_naive = train_subset['y'].iloc[-seasonality:].values.tolist() * h\n",
    "        y_hat_naive = y_hat_naive[:h]  # Ensure forecast length matches h\n",
    "        errors_naive.extend(zip(test_subset['y'].values, y_hat_naive))\n",
    "\n",
    "    # Calculate MASE for AutoETS\n",
    "    actual_autoets = np.array([e[0] for e in errors_autoets])\n",
    "    predicted_autoets = np.array([e[1] for e in errors_autoets])\n",
    "    train_series = df['y'].values  # Full training series for scaling\n",
    "    mase_autoets = mase(actual_autoets, predicted_autoets, train_series)\n",
    "\n",
    "    # Calculate MASE for naive forecast\n",
    "    actual_naive = np.array([e[0] for e in errors_naive])\n",
    "    predicted_naive = np.array([e[1] for e in errors_naive])\n",
    "    mase_naive = mase(actual_naive, predicted_naive, train_series)\n",
    "\n",
    "    return mase_autoets, mase_naive"
   ]
  },
  {
   "cell_type": "code",
   "execution_count": null,
   "id": "e6cac91b-a0dd-4e73-b63e-0acb8fe21248",
   "metadata": {},
   "outputs": [
    {
     "name": "stderr",
     "output_type": "stream",
     "text": [
      "Processing all store_id series:  80%|████████████████████████████████████████▊          | 8/10 [01:42<00:26, 13.27s/it]"
     ]
    }
   ],
   "source": [
    "# Parameters\n",
    "unique_store_ids = data['store_id'].unique()\n",
    "m = 28  # Only consider the last m points for cross-validation\n",
    "h = 1  # Number of steps ahead for forecasting\n",
    "seasonality = 7  # Weekly seasonality for daily data\n",
    "\n",
    "results = []\n",
    "\n",
    "# Loop through each store_id with progress tracking\n",
    "for store_id in tqdm(unique_store_ids, desc=\"Processing all store_id series\"):\n",
    "    df = data.loc[data['store_id'] == store_id, ['d', 'revenue', 'store_id']]\n",
    "    df = df.rename(columns={'d': 'ds', 'revenue': 'y', 'store_id': 'unique_id'})\n",
    "    \n",
    "    model = AutoETS(model=[\"Z\", \"Z\", \"Z\"], alias=\"AutoETS\", damped=True, season_length=seasonality)\n",
    "    mase_autoets, mase_naive = leave_one_out_cv_last_m_with_naive(df, m, h, model, seasonality)\n",
    "    results.append({\"store_id\": store_id, \"AutoETS_MASE\": mase_autoets, \"Naive_MASE\": mase_naive})\n",
    "\n",
    "# Create a summary table\n",
    "summary_table = pd.DataFrame(results)\n",
    "\n",
    "# Calculate average MASE for both AutoETS and naive forecasts\n",
    "average_autoets_mase = summary_table[\"AutoETS_MASE\"].mean()\n",
    "average_naive_mase = summary_table[\"Naive_MASE\"].mean()\n",
    "\n",
    "print(\"Summary Table of MASE for Each Series:\")\n",
    "print(summary_table)\n",
    "print(f\"\\nAverage AutoETS MASE across all series: {average_autoets_mase}\")\n",
    "print(f\"Average Naive MASE across all series: {average_naive_mase}\")"
   ]
  },
  {
   "cell_type": "code",
   "execution_count": null,
   "id": "31ee32c7-4f88-4de0-9112-a7ddc3d5985a",
   "metadata": {},
   "outputs": [],
   "source": []
  }
 ],
 "metadata": {
  "kernelspec": {
   "display_name": "Python 3 (ipykernel)",
   "language": "python",
   "name": "python3"
  },
  "language_info": {
   "codemirror_mode": {
    "name": "ipython",
    "version": 3
   },
   "file_extension": ".py",
   "mimetype": "text/x-python",
   "name": "python",
   "nbconvert_exporter": "python",
   "pygments_lexer": "ipython3",
   "version": "3.12.2"
  }
 },
 "nbformat": 4,
 "nbformat_minor": 5
}
